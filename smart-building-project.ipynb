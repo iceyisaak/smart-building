{
 "cells": [
  {
   "cell_type": "markdown",
   "id": "3e06656b",
   "metadata": {},
   "source": [
    "# Smart Building Project "
   ]
  },
  {
   "cell_type": "markdown",
   "id": "0d6f6c6d",
   "metadata": {},
   "source": [
    "###### 20250710"
   ]
  },
  {
   "cell_type": "markdown",
   "id": "717f7fec",
   "metadata": {
    "vscode": {
     "languageId": "plaintext"
    }
   },
   "source": [
    "Dataset: https://www.kaggle.com/datasets/claytonmiller/cubems-smart-building-energy-and-iaq-data"
   ]
  },
  {
   "cell_type": "markdown",
   "id": "6e82a783",
   "metadata": {},
   "source": []
  },
  {
   "cell_type": "markdown",
   "id": "ad5ec926",
   "metadata": {},
   "source": []
  },
  {
   "cell_type": "markdown",
   "id": "a781a88f",
   "metadata": {},
   "source": []
  },
  {
   "cell_type": "code",
   "execution_count": null,
   "id": "8428aa68",
   "metadata": {},
   "outputs": [],
   "source": [
    "# Import Libraries\n",
    "\n"
   ]
  }
 ],
 "metadata": {
  "language_info": {
   "name": "python"
  }
 },
 "nbformat": 4,
 "nbformat_minor": 5
}
